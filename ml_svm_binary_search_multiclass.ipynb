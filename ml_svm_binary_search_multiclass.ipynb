{
  "nbformat": 4,
  "nbformat_minor": 0,
  "metadata": {
    "colab": {
      "provenance": [],
      "authorship_tag": "ABX9TyNzqlnkeq1sJQPAjKmm+Pi4",
      "include_colab_link": true
    },
    "kernelspec": {
      "name": "python3",
      "display_name": "Python 3"
    },
    "language_info": {
      "name": "python"
    },
    "accelerator": "TPU"
  },
  "cells": [
    {
      "cell_type": "markdown",
      "metadata": {
        "id": "view-in-github",
        "colab_type": "text"
      },
      "source": [
        "<a href=\"https://colab.research.google.com/github/mansimar11/Asteroid_Spectra_ml_dl/blob/main/ml_svm_binary_search_multiclass.ipynb\" target=\"_parent\"><img src=\"https://colab.research.google.com/assets/colab-badge.svg\" alt=\"Open In Colab\"/></a>"
      ]
    },
    {
      "cell_type": "code",
      "execution_count": null,
      "metadata": {
        "id": "qS5PuU_9YryA"
      },
      "outputs": [],
      "source": [
        "# Import standard libraries\n",
        "import os\n",
        "\n",
        "# Import installed libraries\n",
        "import numpy as np\n",
        "import pandas as pd\n",
        "import sklearn"
      ]
    },
    {
      "cell_type": "code",
      "source": [
        "# Let's mount the Google Drive, where we store files and models (if applicable, otherwise work\n",
        "# locally)\n",
        "try:\n",
        "    from google.colab import drive\n",
        "    drive.mount('/gdrive')\n",
        "    core_path = \"/gdrive/MyDrive/Colab/asteroid_taxonomy/\"\n",
        "except ModuleNotFoundError:\n",
        "    core_path = \"\""
      ],
      "metadata": {
        "id": "T0x8WMC_ZX93",
        "colab": {
          "base_uri": "https://localhost:8080/"
        },
        "outputId": "59ea06f5-e1eb-4de8-b456-56c3cf85104f"
      },
      "execution_count": null,
      "outputs": [
        {
          "output_type": "stream",
          "name": "stdout",
          "text": [
            "Mounted at /gdrive\n"
          ]
        }
      ]
    },
    {
      "cell_type": "code",
      "source": [
        "# Load the level 2 asteroid data\n",
        "asteroids_df = pd.read_pickle(os.path.join(core_path, \"data/lvl2/\", \"asteroids.pkl\"))"
      ],
      "metadata": {
        "id": "lc0c4FrLZaKG"
      },
      "execution_count": null,
      "outputs": []
    },
    {
      "cell_type": "code",
      "source": [
        "# Now we add a binary classification schema, where we distinguish between e.g., X and non-X classes\n",
        "asteroids_df.loc[:, \"Class\"] = asteroids_df[\"Main_Group\"].apply(lambda x: 1 if x==\"X\" else 0)"
      ],
      "metadata": {
        "id": "MQgap_aJZhe5"
      },
      "execution_count": null,
      "outputs": []
    },
    {
      "cell_type": "code",
      "source": [
        "# Allocate the spectra to one array and the classes to another one\n",
        "asteroids_X = np.array([k[\"Reflectance_norm550nm\"].tolist() for k in asteroids_df[\"SpectrumDF\"]])\n",
        "asteroids_y = np.array(asteroids_df[\"Class\"].to_list())"
      ],
      "metadata": {
        "id": "0ju_B71HZkWH"
      },
      "execution_count": null,
      "outputs": []
    },
    {
      "cell_type": "code",
      "source": [
        "# In this example we create a single test-training split with a ratio of 0.8 / 0.2\n",
        "# The StratifiedShuffleSplit is needed to preserve the ratio of the classes!\n",
        "from sklearn.model_selection import StratifiedShuffleSplit\n",
        "sss = StratifiedShuffleSplit(n_splits=1, test_size=0.2, random_state=0)\n",
        "\n",
        "for train_index, test_index in sss.split(asteroids_X, asteroids_y):\n",
        "    X_train, X_test = asteroids_X[train_index], asteroids_X[test_index]\n",
        "    y_train, y_test = asteroids_y[train_index], asteroids_y[test_index]"
      ],
      "metadata": {
        "id": "jRGt62-7Zmcf"
      },
      "execution_count": null,
      "outputs": []
    },
    {
      "cell_type": "code",
      "source": [
        "# Let's take a look whether the unbalanced ratio has been preserved\n",
        "print(f\"Ratio of positive training classes: {round(sum(y_train) / len(X_train), 2)}\")\n",
        "print(f\"Ratio of positive test classes: {round(sum(y_test) / len(X_test), 2)}\")"
      ],
      "metadata": {
        "id": "hAF0MwATZoYF",
        "colab": {
          "base_uri": "https://localhost:8080/"
        },
        "outputId": "d6f0401c-7525-4d84-e72b-c0cc45714c10"
      },
      "execution_count": null,
      "outputs": [
        {
          "output_type": "stream",
          "name": "stdout",
          "text": [
            "Ratio of positive training classes: 0.18\n",
            "Ratio of positive test classes: 0.18\n"
          ]
        }
      ]
    },
    {
      "cell_type": "code",
      "source": [
        "# Compute class weightning\n",
        "positive_class_weight = int(1.0 / (sum(y_train) / len(X_train)))\n",
        "print(f\"Positive Class weightning: {positive_class_weight}\")"
      ],
      "metadata": {
        "id": "cU4ifzuoZvDD",
        "colab": {
          "base_uri": "https://localhost:8080/"
        },
        "outputId": "f61825d5-316b-49f2-97a1-6b789273775e"
      },
      "execution_count": null,
      "outputs": [
        {
          "output_type": "stream",
          "name": "stdout",
          "text": [
            "Positive Class weightning: 5\n"
          ]
        }
      ]
    },
    {
      "cell_type": "code",
      "source": [
        "# Import the preprocessing module\n",
        "from sklearn import preprocessing\n",
        "\n",
        "# Instantiate the StandardScaler (mean 0, standard deviation 1) and use the training data to fit\n",
        "# the scaler\n",
        "scaler = preprocessing.StandardScaler().fit(X_train)\n",
        "\n",
        "# Transform now the training data\n",
        "X_train_scaled = scaler.transform(X_train)"
      ],
      "metadata": {
        "id": "BZhE3XZfZyHv"
      },
      "execution_count": null,
      "outputs": []
    },
    {
      "cell_type": "code",
      "source": [],
      "metadata": {
        "id": "2Cybjr6LZ06h"
      },
      "execution_count": null,
      "outputs": []
    },
    {
      "cell_type": "code",
      "source": [
        "from sklearn.model_selection import cross_val_score, StratifiedKFold\n",
        "from sklearn.svm import SVC\n",
        "from sklearn import datasets\n",
        "from sklearn.preprocessing import StandardScaler\n",
        "from sklearn.pipeline import make_pipeline\n",
        "from sklearn.metrics import classification_report, accuracy_score\n",
        "import numpy as np\n",
        "positive_class_weight = 2\n",
        "\n",
        "# Create an SVM classifier with a radial basis function (RBF) kernel\n",
        "wclf = make_pipeline(StandardScaler(), SVC(kernel='rbf', class_weight={1: positive_class_weight}, C=100))\n",
        "\n",
        "# Specify the number of folds for cross-validation\n",
        "num_folds = 5\n",
        "\n",
        "# Create a StratifiedKFold object to ensure class balance in each fold\n",
        "kf = StratifiedKFold(n_splits=num_folds, shuffle=True, random_state=42)\n",
        "\n",
        "# Perform cross-validation\n",
        "\n",
        "cross_val_scores = cross_val_score(wclf, X_train_scaled, y_train, cv=kf, scoring='accuracy')\n",
        "\n",
        "wclf.fit(X_train_scaled, y_train)\n",
        "# Display the cross-validation scores\n",
        "print(\"Cross-validation scores:\", cross_val_scores)\n",
        "\n",
        "# Calculate and display the mean accuracy\n",
        "mean_accuracy = np.mean(cross_val_scores)\n",
        "print(\"Mean accuracy:\", mean_accuracy)"
      ],
      "metadata": {
        "id": "PR2C2YjripHR",
        "colab": {
          "base_uri": "https://localhost:8080/"
        },
        "outputId": "2bfda654-2086-4d67-bcf1-ae04930b40ae"
      },
      "execution_count": null,
      "outputs": [
        {
          "output_type": "stream",
          "name": "stdout",
          "text": [
            "Cross-validation scores: [0.97209302 0.97663551 0.95794393 0.97663551 0.97663551]\n",
            "Mean accuracy: 0.9719886981091067\n"
          ]
        }
      ]
    },
    {
      "cell_type": "code",
      "source": [
        "# Scale the testing data ...\n",
        "X_test_scaled = scaler.transform(X_test)\n",
        "\n",
        "# ... and perform a predicition\n",
        "y_test_pred = wclf.predict(X_test_scaled)"
      ],
      "metadata": {
        "id": "IknNnjRyZ3FA"
      },
      "execution_count": null,
      "outputs": []
    },
    {
      "cell_type": "code",
      "source": [
        "# Import the confusion matrix and perform the computation\n",
        "from sklearn.metrics import confusion_matrix\n",
        "conf_mat = confusion_matrix(y_test, y_test_pred)\n",
        "\n",
        "print(conf_mat)\n",
        "\n",
        "# The order of the confusion matrix is:\n",
        "#     - true negative (top left, tn)\n",
        "#     - false positive (top right, fp)\n",
        "#     - false negative (bottom left, fn)\n",
        "#     - true positive (bottom right, tp)\n",
        "tn, fp, fn, tp = conf_mat.ravel()"
      ],
      "metadata": {
        "id": "RzOqAtGdZ53z",
        "colab": {
          "base_uri": "https://localhost:8080/"
        },
        "outputId": "41f432c4-e3d8-403e-e9a8-d4006e75b51d"
      },
      "execution_count": null,
      "outputs": [
        {
          "output_type": "stream",
          "name": "stdout",
          "text": [
            "[[217   4]\n",
            " [  2  45]]\n"
          ]
        }
      ]
    },
    {
      "cell_type": "code",
      "source": [
        "# Recall: ratio of correctly classified X Class spectra, considering the false negatives\n",
        "# (recall = tp / (tp + fn))\n",
        "recall_score = round(sklearn.metrics.recall_score(y_test, y_test_pred), 3)\n",
        "print(f\"Recall Score: {recall_score}\")\n",
        "\n",
        "# Precision: ratio of correctly classified X Class spectra, considering the false positives\n",
        "# (precision = tp / (tp + fp))\n",
        "precision_score = round(sklearn.metrics.precision_score(y_test, y_test_pred), 3)\n",
        "print(f\"Precision Score: {precision_score}\")\n",
        "\n",
        "# A combined score\n",
        "f1_score = round(sklearn.metrics.f1_score(y_test, y_test_pred), 3)\n",
        "print(f\"F1 Score: {f1_score}\")"
      ],
      "metadata": {
        "id": "HO8HYlFvaL71",
        "colab": {
          "base_uri": "https://localhost:8080/"
        },
        "outputId": "996fb217-b639-4880-f529-cef8ac50b56a"
      },
      "execution_count": null,
      "outputs": [
        {
          "output_type": "stream",
          "name": "stdout",
          "text": [
            "Recall Score: 0.957\n",
            "Precision Score: 0.918\n",
            "F1 Score: 0.938\n"
          ]
        }
      ]
    },
    {
      "cell_type": "code",
      "source": [
        "# We copy the original labelling and shuffle it randomly\n",
        "asteroids_random_y = asteroids_y.copy()\n",
        "np.random.shuffle(asteroids_random_y)"
      ],
      "metadata": {
        "id": "TxHgiiq_aPPV"
      },
      "execution_count": null,
      "outputs": []
    },
    {
      "cell_type": "code",
      "source": [
        "# Now we can apply e.g., the F1 score on the random-classifier. Please note: theoretically this\n",
        "# should have been done before the training! But in this initial video we keep it simple in a more\n",
        "# \"storytelling\" way\n",
        "f1_score_naive = round(sklearn.metrics.f1_score(asteroids_y, asteroids_random_y), 3)\n",
        "print(f\"Naive F1 Score: {f1_score_naive}\")"
      ],
      "metadata": {
        "id": "IhRZTvWjaTqR",
        "colab": {
          "base_uri": "https://localhost:8080/"
        },
        "outputId": "4fd9ee1a-ee8b-4c13-b7ad-1d01b58cddc7"
      },
      "execution_count": null,
      "outputs": [
        {
          "output_type": "stream",
          "name": "stdout",
          "text": [
            "Naive F1 Score: 0.194\n"
          ]
        }
      ]
    },
    {
      "cell_type": "code",
      "source": [
        "# Import standard libraries\n",
        "import os\n",
        "\n",
        "# Import installed libraries\n",
        "import numpy as np\n",
        "import pandas as pd\n",
        "import sklearn\n",
        "\n",
        "from sklearn import preprocessing\n",
        "from sklearn import svm\n",
        "from sklearn.model_selection import GridSearchCV"
      ],
      "metadata": {
        "id": "EoInewKxaV8p"
      },
      "execution_count": null,
      "outputs": []
    },
    {
      "cell_type": "code",
      "source": [
        "# Load the level 2 asteroid data\n",
        "asteroids_df = pd.read_pickle(os.path.join(core_path, \"data/lvl2/\", \"asteroids.pkl\"))"
      ],
      "metadata": {
        "id": "cPDAD0Igaw4r"
      },
      "execution_count": null,
      "outputs": []
    },
    {
      "cell_type": "code",
      "source": [
        "# Now we add a binary classification schema, where we distinguish between e.g., X and non-X classes\n",
        "asteroids_df.loc[:, \"Class\"] = asteroids_df[\"Main_Group\"].apply(lambda x: 1 if x==\"X\" else 0)"
      ],
      "metadata": {
        "id": "yxDtO46ia0Bz"
      },
      "execution_count": null,
      "outputs": []
    },
    {
      "cell_type": "code",
      "source": [
        "# Allocate the spectra to one array and the classes to another one\n",
        "asteroids_X = np.array([k[\"Reflectance_norm550nm\"].tolist() for k in asteroids_df[\"SpectrumDF\"]])\n",
        "asteroids_y = np.array(asteroids_df[\"Class\"].to_list())"
      ],
      "metadata": {
        "id": "PdALpAb6a2ew"
      },
      "execution_count": null,
      "outputs": []
    },
    {
      "cell_type": "code",
      "source": [
        "# In this example we create a single test-training split with a ratio of 0.8 / 0.2\n",
        "from sklearn.model_selection import StratifiedShuffleSplit\n",
        "sss = StratifiedShuffleSplit(n_splits=1, test_size=0.2)\n",
        "\n",
        "# Create a simple, single train / test split\n",
        "for train_index, test_index in sss.split(asteroids_X, asteroids_y):\n",
        "\n",
        "    X_train, X_test = asteroids_X[train_index], asteroids_X[test_index]\n",
        "    y_train, y_test = asteroids_y[train_index], asteroids_y[test_index]\n",
        "\n",
        "# Compute class weightning\n",
        "positive_class_weight = int(1.0 / (sum(y_train) / len(X_train)))"
      ],
      "metadata": {
        "id": "RKhDpyXPa8Y_"
      },
      "execution_count": null,
      "outputs": []
    },
    {
      "cell_type": "code",
      "source": [
        "# Perform now a GridSearch with the following parameter range and kernels\n",
        "param_grid = [\n",
        "  {'C': [1, 10, 100], 'kernel': ['linear']},\n",
        "  {'C': [1, 10, 100], 'kernel': ['rbf']},\n",
        " ]\n",
        "\n",
        "# Set the SVM classifier\n",
        "svc = svm.SVC(class_weight={1: positive_class_weight})\n",
        "\n",
        "# Instantiate the StandardScaler (mean 0, standard deviation 1) and use the training data to fit\n",
        "# the scaler\n",
        "scaler = preprocessing.StandardScaler().fit(X_train)\n",
        "\n",
        "# Transform now the training data\n",
        "X_train_scaled = scaler.transform(X_train)\n",
        "\n",
        "# Set the GridSearch and ...\n",
        "wclf = GridSearchCV(svc, param_grid, scoring='f1', verbose=3, cv=5)\n",
        "\n",
        "# ... perform the training!\n",
        "wclf.fit(X_train_scaled, y_train)"
      ],
      "metadata": {
        "id": "mhp0yyJna-oJ",
        "colab": {
          "base_uri": "https://localhost:8080/",
          "height": 655
        },
        "outputId": "e817d9e5-48ac-468e-8bc2-f256d0de0958"
      },
      "execution_count": null,
      "outputs": [
        {
          "output_type": "stream",
          "name": "stdout",
          "text": [
            "Fitting 5 folds for each of 6 candidates, totalling 30 fits\n",
            "[CV 1/5] END ................C=1, kernel=linear;, score=0.541 total time=   0.2s\n",
            "[CV 2/5] END ................C=1, kernel=linear;, score=0.492 total time=   0.1s\n",
            "[CV 3/5] END ................C=1, kernel=linear;, score=0.511 total time=   0.2s\n",
            "[CV 4/5] END ................C=1, kernel=linear;, score=0.565 total time=   0.2s\n",
            "[CV 5/5] END ................C=1, kernel=linear;, score=0.532 total time=   0.1s\n",
            "[CV 1/5] END ...............C=10, kernel=linear;, score=0.589 total time=   0.7s\n",
            "[CV 2/5] END ...............C=10, kernel=linear;, score=0.504 total time=   1.0s\n",
            "[CV 3/5] END ...............C=10, kernel=linear;, score=0.523 total time=   1.1s\n",
            "[CV 4/5] END ...............C=10, kernel=linear;, score=0.587 total time=   0.9s\n",
            "[CV 5/5] END ...............C=10, kernel=linear;, score=0.557 total time=   0.7s\n",
            "[CV 1/5] END ..............C=100, kernel=linear;, score=0.587 total time=   7.4s\n",
            "[CV 2/5] END ..............C=100, kernel=linear;, score=0.508 total time=   3.7s\n",
            "[CV 3/5] END ..............C=100, kernel=linear;, score=0.534 total time=   3.2s\n",
            "[CV 4/5] END ..............C=100, kernel=linear;, score=0.579 total time=   5.9s\n",
            "[CV 5/5] END ..............C=100, kernel=linear;, score=0.562 total time=   4.3s\n",
            "[CV 1/5] END ...................C=1, kernel=rbf;, score=0.874 total time=   0.0s\n",
            "[CV 2/5] END ...................C=1, kernel=rbf;, score=0.835 total time=   0.0s\n",
            "[CV 3/5] END ...................C=1, kernel=rbf;, score=0.771 total time=   0.0s\n",
            "[CV 4/5] END ...................C=1, kernel=rbf;, score=0.787 total time=   0.0s\n",
            "[CV 5/5] END ...................C=1, kernel=rbf;, score=0.884 total time=   0.0s\n",
            "[CV 1/5] END ..................C=10, kernel=rbf;, score=0.927 total time=   0.0s\n",
            "[CV 2/5] END ..................C=10, kernel=rbf;, score=0.902 total time=   0.0s\n",
            "[CV 3/5] END ..................C=10, kernel=rbf;, score=0.860 total time=   0.0s\n",
            "[CV 4/5] END ..................C=10, kernel=rbf;, score=0.854 total time=   0.0s\n",
            "[CV 5/5] END ..................C=10, kernel=rbf;, score=0.962 total time=   0.0s\n",
            "[CV 1/5] END .................C=100, kernel=rbf;, score=0.961 total time=   0.0s\n",
            "[CV 2/5] END .................C=100, kernel=rbf;, score=0.937 total time=   0.0s\n",
            "[CV 3/5] END .................C=100, kernel=rbf;, score=0.937 total time=   0.0s\n",
            "[CV 4/5] END .................C=100, kernel=rbf;, score=0.927 total time=   0.0s\n",
            "[CV 5/5] END .................C=100, kernel=rbf;, score=0.961 total time=   0.0s\n"
          ]
        },
        {
          "output_type": "execute_result",
          "data": {
            "text/plain": [
              "GridSearchCV(cv=5, estimator=SVC(class_weight={1: 5}),\n",
              "             param_grid=[{'C': [1, 10, 100], 'kernel': ['linear']},\n",
              "                         {'C': [1, 10, 100], 'kernel': ['rbf']}],\n",
              "             scoring='f1', verbose=3)"
            ],
            "text/html": [
              "<style>#sk-container-id-1 {color: black;background-color: white;}#sk-container-id-1 pre{padding: 0;}#sk-container-id-1 div.sk-toggleable {background-color: white;}#sk-container-id-1 label.sk-toggleable__label {cursor: pointer;display: block;width: 100%;margin-bottom: 0;padding: 0.3em;box-sizing: border-box;text-align: center;}#sk-container-id-1 label.sk-toggleable__label-arrow:before {content: \"▸\";float: left;margin-right: 0.25em;color: #696969;}#sk-container-id-1 label.sk-toggleable__label-arrow:hover:before {color: black;}#sk-container-id-1 div.sk-estimator:hover label.sk-toggleable__label-arrow:before {color: black;}#sk-container-id-1 div.sk-toggleable__content {max-height: 0;max-width: 0;overflow: hidden;text-align: left;background-color: #f0f8ff;}#sk-container-id-1 div.sk-toggleable__content pre {margin: 0.2em;color: black;border-radius: 0.25em;background-color: #f0f8ff;}#sk-container-id-1 input.sk-toggleable__control:checked~div.sk-toggleable__content {max-height: 200px;max-width: 100%;overflow: auto;}#sk-container-id-1 input.sk-toggleable__control:checked~label.sk-toggleable__label-arrow:before {content: \"▾\";}#sk-container-id-1 div.sk-estimator input.sk-toggleable__control:checked~label.sk-toggleable__label {background-color: #d4ebff;}#sk-container-id-1 div.sk-label input.sk-toggleable__control:checked~label.sk-toggleable__label {background-color: #d4ebff;}#sk-container-id-1 input.sk-hidden--visually {border: 0;clip: rect(1px 1px 1px 1px);clip: rect(1px, 1px, 1px, 1px);height: 1px;margin: -1px;overflow: hidden;padding: 0;position: absolute;width: 1px;}#sk-container-id-1 div.sk-estimator {font-family: monospace;background-color: #f0f8ff;border: 1px dotted black;border-radius: 0.25em;box-sizing: border-box;margin-bottom: 0.5em;}#sk-container-id-1 div.sk-estimator:hover {background-color: #d4ebff;}#sk-container-id-1 div.sk-parallel-item::after {content: \"\";width: 100%;border-bottom: 1px solid gray;flex-grow: 1;}#sk-container-id-1 div.sk-label:hover label.sk-toggleable__label {background-color: #d4ebff;}#sk-container-id-1 div.sk-serial::before {content: \"\";position: absolute;border-left: 1px solid gray;box-sizing: border-box;top: 0;bottom: 0;left: 50%;z-index: 0;}#sk-container-id-1 div.sk-serial {display: flex;flex-direction: column;align-items: center;background-color: white;padding-right: 0.2em;padding-left: 0.2em;position: relative;}#sk-container-id-1 div.sk-item {position: relative;z-index: 1;}#sk-container-id-1 div.sk-parallel {display: flex;align-items: stretch;justify-content: center;background-color: white;position: relative;}#sk-container-id-1 div.sk-item::before, #sk-container-id-1 div.sk-parallel-item::before {content: \"\";position: absolute;border-left: 1px solid gray;box-sizing: border-box;top: 0;bottom: 0;left: 50%;z-index: -1;}#sk-container-id-1 div.sk-parallel-item {display: flex;flex-direction: column;z-index: 1;position: relative;background-color: white;}#sk-container-id-1 div.sk-parallel-item:first-child::after {align-self: flex-end;width: 50%;}#sk-container-id-1 div.sk-parallel-item:last-child::after {align-self: flex-start;width: 50%;}#sk-container-id-1 div.sk-parallel-item:only-child::after {width: 0;}#sk-container-id-1 div.sk-dashed-wrapped {border: 1px dashed gray;margin: 0 0.4em 0.5em 0.4em;box-sizing: border-box;padding-bottom: 0.4em;background-color: white;}#sk-container-id-1 div.sk-label label {font-family: monospace;font-weight: bold;display: inline-block;line-height: 1.2em;}#sk-container-id-1 div.sk-label-container {text-align: center;}#sk-container-id-1 div.sk-container {/* jupyter's `normalize.less` sets `[hidden] { display: none; }` but bootstrap.min.css set `[hidden] { display: none !important; }` so we also need the `!important` here to be able to override the default hidden behavior on the sphinx rendered scikit-learn.org. See: https://github.com/scikit-learn/scikit-learn/issues/21755 */display: inline-block !important;position: relative;}#sk-container-id-1 div.sk-text-repr-fallback {display: none;}</style><div id=\"sk-container-id-1\" class=\"sk-top-container\"><div class=\"sk-text-repr-fallback\"><pre>GridSearchCV(cv=5, estimator=SVC(class_weight={1: 5}),\n",
              "             param_grid=[{&#x27;C&#x27;: [1, 10, 100], &#x27;kernel&#x27;: [&#x27;linear&#x27;]},\n",
              "                         {&#x27;C&#x27;: [1, 10, 100], &#x27;kernel&#x27;: [&#x27;rbf&#x27;]}],\n",
              "             scoring=&#x27;f1&#x27;, verbose=3)</pre><b>In a Jupyter environment, please rerun this cell to show the HTML representation or trust the notebook. <br />On GitHub, the HTML representation is unable to render, please try loading this page with nbviewer.org.</b></div><div class=\"sk-container\" hidden><div class=\"sk-item sk-dashed-wrapped\"><div class=\"sk-label-container\"><div class=\"sk-label sk-toggleable\"><input class=\"sk-toggleable__control sk-hidden--visually\" id=\"sk-estimator-id-1\" type=\"checkbox\" ><label for=\"sk-estimator-id-1\" class=\"sk-toggleable__label sk-toggleable__label-arrow\">GridSearchCV</label><div class=\"sk-toggleable__content\"><pre>GridSearchCV(cv=5, estimator=SVC(class_weight={1: 5}),\n",
              "             param_grid=[{&#x27;C&#x27;: [1, 10, 100], &#x27;kernel&#x27;: [&#x27;linear&#x27;]},\n",
              "                         {&#x27;C&#x27;: [1, 10, 100], &#x27;kernel&#x27;: [&#x27;rbf&#x27;]}],\n",
              "             scoring=&#x27;f1&#x27;, verbose=3)</pre></div></div></div><div class=\"sk-parallel\"><div class=\"sk-parallel-item\"><div class=\"sk-item\"><div class=\"sk-label-container\"><div class=\"sk-label sk-toggleable\"><input class=\"sk-toggleable__control sk-hidden--visually\" id=\"sk-estimator-id-2\" type=\"checkbox\" ><label for=\"sk-estimator-id-2\" class=\"sk-toggleable__label sk-toggleable__label-arrow\">estimator: SVC</label><div class=\"sk-toggleable__content\"><pre>SVC(class_weight={1: 5})</pre></div></div></div><div class=\"sk-serial\"><div class=\"sk-item\"><div class=\"sk-estimator sk-toggleable\"><input class=\"sk-toggleable__control sk-hidden--visually\" id=\"sk-estimator-id-3\" type=\"checkbox\" ><label for=\"sk-estimator-id-3\" class=\"sk-toggleable__label sk-toggleable__label-arrow\">SVC</label><div class=\"sk-toggleable__content\"><pre>SVC(class_weight={1: 5})</pre></div></div></div></div></div></div></div></div></div></div>"
            ]
          },
          "metadata": {},
          "execution_count": 23
        }
      ]
    },
    {
      "cell_type": "code",
      "source": [
        "# Optional: get the best estimator\n",
        "final_clf = wclf.best_estimator_"
      ],
      "metadata": {
        "id": "kt0Ej_IebB4b"
      },
      "execution_count": null,
      "outputs": []
    },
    {
      "cell_type": "code",
      "source": [
        "# Scale the testing data ...\n",
        "X_test_scaled = scaler.transform(X_test)\n",
        "\n",
        "# ... and perform a predicition\n",
        "y_test_pred = final_clf.predict(X_test_scaled)"
      ],
      "metadata": {
        "id": "tnBUACzcbMIW"
      },
      "execution_count": null,
      "outputs": []
    },
    {
      "cell_type": "code",
      "source": [
        "# Import the confusion matrix and perform the computation\n",
        "from sklearn.metrics import confusion_matrix\n",
        "conf_mat = confusion_matrix(y_test, y_test_pred)\n",
        "\n",
        "print(conf_mat)\n",
        "\n",
        "# The order of the confusion matrix is:\n",
        "#     - true negative (top left, tn)\n",
        "#     - false positive (top right, fp)\n",
        "#     - false negative (bottom left, fn)\n",
        "#     - true positive (bottom right, tp)\n",
        "tn, fp, fn, tp = conf_mat.ravel()"
      ],
      "metadata": {
        "id": "BqltQmkPbOu7",
        "colab": {
          "base_uri": "https://localhost:8080/"
        },
        "outputId": "9532ba3c-e215-4783-956d-621710b4ea93"
      },
      "execution_count": null,
      "outputs": [
        {
          "output_type": "stream",
          "name": "stdout",
          "text": [
            "[[218   3]\n",
            " [  3  44]]\n"
          ]
        }
      ]
    },
    {
      "cell_type": "code",
      "source": [
        "# Recall: ratio of correctly classified X Class spectra, considering the false negatives\n",
        "# (recall = tp / (tp + fn))\n",
        "recall_score = round(sklearn.metrics.recall_score(y_test, y_test_pred), 3)\n",
        "print(f\"Recall Score: {recall_score}\")\n",
        "\n",
        "# Precision: ratio of correctly classified X Class spectra, considering the false positives\n",
        "# (precision = tp / (tp + fp))\n",
        "precision_score = round(sklearn.metrics.precision_score(y_test, y_test_pred), 3)\n",
        "print(f\"Precision Score: {precision_score}\")\n",
        "\n",
        "# A combined score\n",
        "f1_score = round(sklearn.metrics.f1_score(y_test, y_test_pred), 3)\n",
        "print(f\"F1 Score: {f1_score}\")"
      ],
      "metadata": {
        "id": "Fx1lj0hRbQnD",
        "colab": {
          "base_uri": "https://localhost:8080/"
        },
        "outputId": "1d06bb69-1eef-49df-8491-9b7aa229065a"
      },
      "execution_count": null,
      "outputs": [
        {
          "output_type": "stream",
          "name": "stdout",
          "text": [
            "Recall Score: 0.936\n",
            "Precision Score: 0.936\n",
            "F1 Score: 0.936\n"
          ]
        }
      ]
    },
    {
      "cell_type": "code",
      "source": [
        "asteroids_df = pd.read_pickle(os.path.join(core_path, \"data/lvl2/\", \"asteroids.pkl\"))"
      ],
      "metadata": {
        "id": "lWdm8vtXbTwv"
      },
      "execution_count": null,
      "outputs": []
    },
    {
      "cell_type": "code",
      "source": [
        "# Allocate the spectra to one array and the classes to another one\n",
        "asteroids_X = np.array([k[\"Reflectance_norm550nm\"].tolist() for k in asteroids_df[\"SpectrumDF\"]])\n",
        "asteroids_y = np.array(asteroids_df[\"Main_Group\"].to_list())"
      ],
      "metadata": {
        "id": "tgS0IcpKq43A"
      },
      "execution_count": null,
      "outputs": []
    },
    {
      "cell_type": "code",
      "source": [
        "# In this example we create a single test-training split with a ratio of 0.8 / 0.2\n",
        "from sklearn.model_selection import StratifiedShuffleSplit\n",
        "sss = StratifiedShuffleSplit(n_splits=1, test_size=0.2)\n",
        "\n",
        "# Create a simple, single train / test split\n",
        "for train_index, test_index in sss.split(asteroids_X, asteroids_y):\n",
        "\n",
        "    X_train, X_test = asteroids_X[train_index], asteroids_X[test_index]\n",
        "    y_train, y_test = asteroids_y[train_index], asteroids_y[test_index]\n",
        "\n",
        "# Compute class weightnings\n",
        "weight_dict = {}\n",
        "for ast_type in np.unique(y_train):\n",
        "    weight_dict[ast_type] = int(1.0 / (len(y_train[y_train == ast_type]) / (len(y_train))))"
      ],
      "metadata": {
        "id": "WjNm-gWgq7Il"
      },
      "execution_count": null,
      "outputs": []
    },
    {
      "cell_type": "code",
      "source": [
        "from sklearn.metrics import make_scorer, f1_score\n",
        "\n",
        "# Perform now a GridSearch with the following parameter range and kernels\n",
        "param_grid = [\n",
        "  {'C': np.logspace(0, 3.5, 25), 'kernel': ['linear']},\n",
        "  {'C': np.logspace(0, 3.5, 25), 'kernel': ['rbf']},\n",
        " ]\n",
        "\n",
        "# Set the SVM classifier\n",
        "svc = svm.SVC(class_weight=weight_dict)\n",
        "\n",
        "# Instantiate the StandardScaler (mean 0, standard deviation 1) and use the training data to fit\n",
        "# the scaler\n",
        "scaler = preprocessing.StandardScaler().fit(X_train)\n",
        "\n",
        "# Transform now the training data\n",
        "X_train_scaled = scaler.transform(X_train)\n",
        "\n",
        "# Set the GridSearch. Use the f1 \"weighted\" score in a maker_scorer function. And ...\n",
        "wclf = GridSearchCV(svc, param_grid, scoring=make_scorer(f1_score, average=\"weighted\"), verbose=3, cv=5)\n",
        "\n",
        "# ... perform the training!\n",
        "wclf.fit(X_train_scaled, y_train)"
      ],
      "metadata": {
        "colab": {
          "base_uri": "https://localhost:8080/",
          "height": 1000
        },
        "id": "S7wzMio8q-A2",
        "outputId": "f1e4f7a9-036a-4ddc-d16a-7c8c397dd473"
      },
      "execution_count": null,
      "outputs": [
        {
          "output_type": "stream",
          "name": "stdout",
          "text": [
            "Fitting 5 folds for each of 50 candidates, totalling 250 fits\n",
            "[CV 1/5] END ..............C=1.0, kernel=linear;, score=0.810 total time=   0.1s\n",
            "[CV 2/5] END ..............C=1.0, kernel=linear;, score=0.846 total time=   0.1s\n",
            "[CV 3/5] END ..............C=1.0, kernel=linear;, score=0.840 total time=   0.1s\n",
            "[CV 4/5] END ..............C=1.0, kernel=linear;, score=0.840 total time=   0.1s\n",
            "[CV 5/5] END ..............C=1.0, kernel=linear;, score=0.845 total time=   0.1s\n",
            "[CV 1/5] END C=1.3990503141372939, kernel=linear;, score=0.822 total time=   0.1s\n",
            "[CV 2/5] END C=1.3990503141372939, kernel=linear;, score=0.853 total time=   0.1s\n",
            "[CV 3/5] END C=1.3990503141372939, kernel=linear;, score=0.844 total time=   0.1s\n",
            "[CV 4/5] END C=1.3990503141372939, kernel=linear;, score=0.828 total time=   0.1s\n",
            "[CV 5/5] END C=1.3990503141372939, kernel=linear;, score=0.853 total time=   0.1s\n",
            "[CV 1/5] END C=1.9573417814876604, kernel=linear;, score=0.822 total time=   0.1s\n",
            "[CV 2/5] END C=1.9573417814876604, kernel=linear;, score=0.854 total time=   0.1s\n",
            "[CV 3/5] END C=1.9573417814876604, kernel=linear;, score=0.835 total time=   0.1s\n",
            "[CV 4/5] END C=1.9573417814876604, kernel=linear;, score=0.828 total time=   0.1s\n",
            "[CV 5/5] END C=1.9573417814876604, kernel=linear;, score=0.853 total time=   0.1s\n",
            "[CV 1/5] END C=2.7384196342643614, kernel=linear;, score=0.819 total time=   0.2s\n",
            "[CV 2/5] END C=2.7384196342643614, kernel=linear;, score=0.849 total time=   0.2s\n",
            "[CV 3/5] END C=2.7384196342643614, kernel=linear;, score=0.835 total time=   0.2s\n",
            "[CV 4/5] END C=2.7384196342643614, kernel=linear;, score=0.832 total time=   0.1s\n",
            "[CV 5/5] END C=2.7384196342643614, kernel=linear;, score=0.857 total time=   0.3s\n",
            "[CV 1/5] END C=3.831186849557288, kernel=linear;, score=0.806 total time=   0.3s\n",
            "[CV 2/5] END C=3.831186849557288, kernel=linear;, score=0.853 total time=   0.2s\n",
            "[CV 3/5] END C=3.831186849557288, kernel=linear;, score=0.835 total time=   0.3s\n",
            "[CV 4/5] END C=3.831186849557288, kernel=linear;, score=0.824 total time=   0.2s\n",
            "[CV 5/5] END C=3.831186849557288, kernel=linear;, score=0.864 total time=   0.2s\n",
            "[CV 1/5] END C=5.360023165391793, kernel=linear;, score=0.798 total time=   0.4s\n",
            "[CV 2/5] END C=5.360023165391793, kernel=linear;, score=0.857 total time=   0.3s\n",
            "[CV 3/5] END C=5.360023165391793, kernel=linear;, score=0.831 total time=   0.4s\n",
            "[CV 4/5] END C=5.360023165391793, kernel=linear;, score=0.820 total time=   0.2s\n",
            "[CV 5/5] END C=5.360023165391793, kernel=linear;, score=0.860 total time=   0.4s\n",
            "[CV 1/5] END C=7.498942093324558, kernel=linear;, score=0.789 total time=   0.4s\n",
            "[CV 2/5] END C=7.498942093324558, kernel=linear;, score=0.859 total time=   0.6s\n",
            "[CV 3/5] END C=7.498942093324558, kernel=linear;, score=0.822 total time=   0.6s\n",
            "[CV 4/5] END C=7.498942093324558, kernel=linear;, score=0.837 total time=   0.4s\n",
            "[CV 5/5] END C=7.498942093324558, kernel=linear;, score=0.855 total time=   0.4s\n",
            "[CV 1/5] END C=10.491397291363102, kernel=linear;, score=0.797 total time=   0.8s\n",
            "[CV 2/5] END C=10.491397291363102, kernel=linear;, score=0.870 total time=   1.2s\n",
            "[CV 3/5] END C=10.491397291363102, kernel=linear;, score=0.822 total time=   1.1s\n",
            "[CV 4/5] END C=10.491397291363102, kernel=linear;, score=0.840 total time=   1.2s\n",
            "[CV 5/5] END C=10.491397291363102, kernel=linear;, score=0.860 total time=   0.9s\n",
            "[CV 1/5] END C=14.677992676220699, kernel=linear;, score=0.789 total time=   1.7s\n",
            "[CV 2/5] END C=14.677992676220699, kernel=linear;, score=0.860 total time=   1.3s\n",
            "[CV 3/5] END C=14.677992676220699, kernel=linear;, score=0.826 total time=   0.9s\n",
            "[CV 4/5] END C=14.677992676220699, kernel=linear;, score=0.844 total time=   0.8s\n",
            "[CV 5/5] END C=14.677992676220699, kernel=linear;, score=0.856 total time=   0.6s\n",
            "[CV 1/5] END C=20.53525026457146, kernel=linear;, score=0.797 total time=   1.0s\n",
            "[CV 2/5] END C=20.53525026457146, kernel=linear;, score=0.868 total time=   1.4s\n",
            "[CV 3/5] END C=20.53525026457146, kernel=linear;, score=0.826 total time=   1.0s\n",
            "[CV 4/5] END C=20.53525026457146, kernel=linear;, score=0.845 total time=   1.5s\n",
            "[CV 5/5] END C=20.53525026457146, kernel=linear;, score=0.847 total time=   2.3s\n",
            "[CV 1/5] END C=28.729848333536655, kernel=linear;, score=0.793 total time=   2.3s\n",
            "[CV 2/5] END C=28.729848333536655, kernel=linear;, score=0.863 total time=   2.8s\n",
            "[CV 3/5] END C=28.729848333536655, kernel=linear;, score=0.826 total time=   1.9s\n",
            "[CV 4/5] END C=28.729848333536655, kernel=linear;, score=0.853 total time=   1.6s\n",
            "[CV 5/5] END C=28.729848333536655, kernel=linear;, score=0.860 total time=   1.4s\n",
            "[CV 1/5] END C=40.19450333615126, kernel=linear;, score=0.797 total time=   1.9s\n",
            "[CV 2/5] END C=40.19450333615126, kernel=linear;, score=0.862 total time=   3.4s\n",
            "[CV 3/5] END C=40.19450333615126, kernel=linear;, score=0.813 total time=   4.1s\n",
            "[CV 4/5] END C=40.19450333615126, kernel=linear;, score=0.853 total time=   3.6s\n",
            "[CV 5/5] END C=40.19450333615126, kernel=linear;, score=0.856 total time=   1.6s\n",
            "[CV 1/5] END C=56.23413251903491, kernel=linear;, score=0.806 total time=   2.0s\n",
            "[CV 2/5] END C=56.23413251903491, kernel=linear;, score=0.858 total time=   7.5s\n",
            "[CV 3/5] END C=56.23413251903491, kernel=linear;, score=0.813 total time=   6.4s\n",
            "[CV 4/5] END C=56.23413251903491, kernel=linear;, score=0.848 total time=   3.3s\n",
            "[CV 5/5] END C=56.23413251903491, kernel=linear;, score=0.852 total time=   2.2s\n",
            "[CV 1/5] END C=78.67438076599402, kernel=linear;, score=0.810 total time=   3.3s\n",
            "[CV 2/5] END C=78.67438076599402, kernel=linear;, score=0.858 total time=   8.3s\n",
            "[CV 3/5] END C=78.67438076599402, kernel=linear;, score=0.800 total time=   4.1s\n",
            "[CV 4/5] END C=78.67438076599402, kernel=linear;, score=0.850 total time=   5.1s\n",
            "[CV 5/5] END C=78.67438076599402, kernel=linear;, score=0.847 total time=   5.9s\n",
            "[CV 1/5] END C=110.06941712522104, kernel=linear;, score=0.818 total time=   5.2s\n",
            "[CV 2/5] END C=110.06941712522104, kernel=linear;, score=0.866 total time=  12.8s\n",
            "[CV 3/5] END C=110.06941712522104, kernel=linear;, score=0.800 total time=   3.8s\n",
            "[CV 4/5] END C=110.06941712522104, kernel=linear;, score=0.832 total time=   7.6s\n",
            "[CV 5/5] END C=110.06941712522104, kernel=linear;, score=0.852 total time=   9.3s\n",
            "[CV 1/5] END C=153.9926526059492, kernel=linear;, score=0.818 total time=   6.8s\n",
            "[CV 2/5] END C=153.9926526059492, kernel=linear;, score=0.858 total time=  13.9s\n",
            "[CV 3/5] END C=153.9926526059492, kernel=linear;, score=0.804 total time=  14.1s\n",
            "[CV 4/5] END C=153.9926526059492, kernel=linear;, score=0.841 total time=  10.0s\n",
            "[CV 5/5] END C=153.9926526059492, kernel=linear;, score=0.847 total time=   9.9s\n",
            "[CV 1/5] END C=215.44346900318845, kernel=linear;, score=0.827 total time=  11.5s\n",
            "[CV 2/5] END C=215.44346900318845, kernel=linear;, score=0.863 total time=  22.9s\n",
            "[CV 3/5] END C=215.44346900318845, kernel=linear;, score=0.795 total time=  13.7s\n",
            "[CV 4/5] END C=215.44346900318845, kernel=linear;, score=0.828 total time=  13.3s\n",
            "[CV 5/5] END C=215.44346900318845, kernel=linear;, score=0.852 total time=  16.0s\n",
            "[CV 1/5] END C=301.4162529877392, kernel=linear;, score=0.819 total time=  17.8s\n",
            "[CV 2/5] END C=301.4162529877392, kernel=linear;, score=0.855 total time=  40.2s\n",
            "[CV 3/5] END C=301.4162529877392, kernel=linear;, score=0.795 total time=  22.7s\n",
            "[CV 4/5] END C=301.4162529877392, kernel=linear;, score=0.828 total time=  24.0s\n",
            "[CV 5/5] END C=301.4162529877392, kernel=linear;, score=0.843 total time=  23.9s\n",
            "[CV 1/5] END C=421.6965034285823, kernel=linear;, score=0.807 total time=  29.5s\n",
            "[CV 2/5] END C=421.6965034285823, kernel=linear;, score=0.855 total time=  38.7s\n",
            "[CV 3/5] END C=421.6965034285823, kernel=linear;, score=0.799 total time=  21.1s\n",
            "[CV 4/5] END C=421.6965034285823, kernel=linear;, score=0.833 total time=  31.6s\n",
            "[CV 5/5] END C=421.6965034285823, kernel=linear;, score=0.847 total time=  42.8s\n",
            "[CV 1/5] END C=589.9746255923566, kernel=linear;, score=0.802 total time=  40.4s\n",
            "[CV 2/5] END C=589.9746255923566, kernel=linear;, score=0.851 total time=  59.7s\n",
            "[CV 3/5] END C=589.9746255923566, kernel=linear;, score=0.791 total time=  39.3s\n",
            "[CV 4/5] END C=589.9746255923566, kernel=linear;, score=0.824 total time= 1.2min\n",
            "[CV 5/5] END C=589.9746255923566, kernel=linear;, score=0.852 total time= 1.0min\n",
            "[CV 1/5] END .C=825.404185268019, kernel=linear;, score=0.805 total time= 1.0min\n",
            "[CV 2/5] END .C=825.404185268019, kernel=linear;, score=0.850 total time= 1.1min\n",
            "[CV 3/5] END .C=825.404185268019, kernel=linear;, score=0.782 total time=  55.7s\n",
            "[CV 4/5] END .C=825.404185268019, kernel=linear;, score=0.820 total time= 1.5min\n",
            "[CV 5/5] END .C=825.404185268019, kernel=linear;, score=0.838 total time= 1.3min\n",
            "[CV 1/5] END C=1154.781984689458, kernel=linear;, score=0.801 total time= 1.2min\n",
            "[CV 2/5] END C=1154.781984689458, kernel=linear;, score=0.850 total time= 2.2min\n",
            "[CV 3/5] END C=1154.781984689458, kernel=linear;, score=0.791 total time= 1.5min\n",
            "[CV 4/5] END C=1154.781984689458, kernel=linear;, score=0.837 total time= 1.8min\n",
            "[CV 5/5] END C=1154.781984689458, kernel=linear;, score=0.839 total time= 1.8min\n",
            "[CV 1/5] END C=1615.5980984398745, kernel=linear;, score=0.806 total time= 1.5min\n",
            "[CV 2/5] END C=1615.5980984398745, kernel=linear;, score=0.851 total time= 2.6min\n",
            "[CV 3/5] END C=1615.5980984398745, kernel=linear;, score=0.782 total time= 2.7min\n",
            "[CV 4/5] END C=1615.5980984398745, kernel=linear;, score=0.832 total time= 2.1min\n",
            "[CV 5/5] END C=1615.5980984398745, kernel=linear;, score=0.834 total time= 4.2min\n",
            "[CV 1/5] END C=2260.3030271419216, kernel=linear;, score=0.797 total time= 1.8min\n",
            "[CV 2/5] END C=2260.3030271419216, kernel=linear;, score=0.856 total time= 4.8min\n",
            "[CV 3/5] END C=2260.3030271419216, kernel=linear;, score=0.782 total time= 2.7min\n",
            "[CV 4/5] END C=2260.3030271419216, kernel=linear;, score=0.836 total time= 3.5min\n",
            "[CV 5/5] END C=2260.3030271419216, kernel=linear;, score=0.834 total time= 3.8min\n",
            "[CV 1/5] END C=3162.2776601683795, kernel=linear;, score=0.809 total time= 2.5min\n",
            "[CV 2/5] END C=3162.2776601683795, kernel=linear;, score=0.842 total time= 6.0min\n",
            "[CV 3/5] END C=3162.2776601683795, kernel=linear;, score=0.790 total time= 6.0min\n",
            "[CV 4/5] END C=3162.2776601683795, kernel=linear;, score=0.845 total time= 3.5min\n",
            "[CV 5/5] END C=3162.2776601683795, kernel=linear;, score=0.834 total time= 4.0min\n",
            "[CV 1/5] END .................C=1.0, kernel=rbf;, score=0.941 total time=   0.0s\n",
            "[CV 2/5] END .................C=1.0, kernel=rbf;, score=0.954 total time=   0.0s\n",
            "[CV 3/5] END .................C=1.0, kernel=rbf;, score=0.958 total time=   0.0s\n",
            "[CV 4/5] END .................C=1.0, kernel=rbf;, score=0.968 total time=   0.0s\n",
            "[CV 5/5] END .................C=1.0, kernel=rbf;, score=0.950 total time=   0.0s\n",
            "[CV 1/5] END ..C=1.3990503141372939, kernel=rbf;, score=0.951 total time=   0.0s\n",
            "[CV 2/5] END ..C=1.3990503141372939, kernel=rbf;, score=0.954 total time=   0.0s\n",
            "[CV 3/5] END ..C=1.3990503141372939, kernel=rbf;, score=0.977 total time=   0.0s\n",
            "[CV 4/5] END ..C=1.3990503141372939, kernel=rbf;, score=0.967 total time=   0.0s\n",
            "[CV 5/5] END ..C=1.3990503141372939, kernel=rbf;, score=0.950 total time=   0.0s\n",
            "[CV 1/5] END ..C=1.9573417814876604, kernel=rbf;, score=0.951 total time=   0.0s\n",
            "[CV 2/5] END ..C=1.9573417814876604, kernel=rbf;, score=0.963 total time=   0.0s\n",
            "[CV 3/5] END ..C=1.9573417814876604, kernel=rbf;, score=0.968 total time=   0.0s\n",
            "[CV 4/5] END ..C=1.9573417814876604, kernel=rbf;, score=0.963 total time=   0.0s\n",
            "[CV 5/5] END ..C=1.9573417814876604, kernel=rbf;, score=0.959 total time=   0.0s\n",
            "[CV 1/5] END ..C=2.7384196342643614, kernel=rbf;, score=0.960 total time=   0.0s\n",
            "[CV 2/5] END ..C=2.7384196342643614, kernel=rbf;, score=0.963 total time=   0.0s\n",
            "[CV 3/5] END ..C=2.7384196342643614, kernel=rbf;, score=0.963 total time=   0.0s\n",
            "[CV 4/5] END ..C=2.7384196342643614, kernel=rbf;, score=0.958 total time=   0.0s\n",
            "[CV 5/5] END ..C=2.7384196342643614, kernel=rbf;, score=0.955 total time=   0.0s\n",
            "[CV 1/5] END ...C=3.831186849557288, kernel=rbf;, score=0.964 total time=   0.0s\n",
            "[CV 2/5] END ...C=3.831186849557288, kernel=rbf;, score=0.958 total time=   0.0s\n",
            "[CV 3/5] END ...C=3.831186849557288, kernel=rbf;, score=0.968 total time=   0.0s\n",
            "[CV 4/5] END ...C=3.831186849557288, kernel=rbf;, score=0.958 total time=   0.0s\n",
            "[CV 5/5] END ...C=3.831186849557288, kernel=rbf;, score=0.955 total time=   0.0s\n",
            "[CV 1/5] END ...C=5.360023165391793, kernel=rbf;, score=0.964 total time=   0.0s\n",
            "[CV 2/5] END ...C=5.360023165391793, kernel=rbf;, score=0.958 total time=   0.0s\n",
            "[CV 3/5] END ...C=5.360023165391793, kernel=rbf;, score=0.963 total time=   0.0s\n",
            "[CV 4/5] END ...C=5.360023165391793, kernel=rbf;, score=0.963 total time=   0.0s\n",
            "[CV 5/5] END ...C=5.360023165391793, kernel=rbf;, score=0.955 total time=   0.0s\n",
            "[CV 1/5] END ...C=7.498942093324558, kernel=rbf;, score=0.968 total time=   0.0s\n",
            "[CV 2/5] END ...C=7.498942093324558, kernel=rbf;, score=0.953 total time=   0.0s\n",
            "[CV 3/5] END ...C=7.498942093324558, kernel=rbf;, score=0.963 total time=   0.0s\n",
            "[CV 4/5] END ...C=7.498942093324558, kernel=rbf;, score=0.953 total time=   0.0s\n",
            "[CV 5/5] END ...C=7.498942093324558, kernel=rbf;, score=0.955 total time=   0.0s\n",
            "[CV 1/5] END ..C=10.491397291363102, kernel=rbf;, score=0.964 total time=   0.0s\n",
            "[CV 2/5] END ..C=10.491397291363102, kernel=rbf;, score=0.949 total time=   0.0s\n",
            "[CV 3/5] END ..C=10.491397291363102, kernel=rbf;, score=0.963 total time=   0.0s\n",
            "[CV 4/5] END ..C=10.491397291363102, kernel=rbf;, score=0.958 total time=   0.0s\n",
            "[CV 5/5] END ..C=10.491397291363102, kernel=rbf;, score=0.955 total time=   0.0s\n",
            "[CV 1/5] END ..C=14.677992676220699, kernel=rbf;, score=0.964 total time=   0.0s\n",
            "[CV 2/5] END ..C=14.677992676220699, kernel=rbf;, score=0.953 total time=   0.0s\n",
            "[CV 3/5] END ..C=14.677992676220699, kernel=rbf;, score=0.963 total time=   0.0s\n",
            "[CV 4/5] END ..C=14.677992676220699, kernel=rbf;, score=0.953 total time=   0.0s\n",
            "[CV 5/5] END ..C=14.677992676220699, kernel=rbf;, score=0.963 total time=   0.0s\n",
            "[CV 1/5] END ...C=20.53525026457146, kernel=rbf;, score=0.963 total time=   0.0s\n",
            "[CV 2/5] END ...C=20.53525026457146, kernel=rbf;, score=0.963 total time=   0.0s\n",
            "[CV 3/5] END ...C=20.53525026457146, kernel=rbf;, score=0.963 total time=   0.0s\n",
            "[CV 4/5] END ...C=20.53525026457146, kernel=rbf;, score=0.958 total time=   0.0s\n",
            "[CV 5/5] END ...C=20.53525026457146, kernel=rbf;, score=0.963 total time=   0.0s\n",
            "[CV 1/5] END ..C=28.729848333536655, kernel=rbf;, score=0.959 total time=   0.0s\n",
            "[CV 2/5] END ..C=28.729848333536655, kernel=rbf;, score=0.958 total time=   0.0s\n",
            "[CV 3/5] END ..C=28.729848333536655, kernel=rbf;, score=0.967 total time=   0.0s\n",
            "[CV 4/5] END ..C=28.729848333536655, kernel=rbf;, score=0.953 total time=   0.0s\n",
            "[CV 5/5] END ..C=28.729848333536655, kernel=rbf;, score=0.963 total time=   0.0s\n",
            "[CV 1/5] END ...C=40.19450333615126, kernel=rbf;, score=0.963 total time=   0.0s\n",
            "[CV 2/5] END ...C=40.19450333615126, kernel=rbf;, score=0.959 total time=   0.0s\n",
            "[CV 3/5] END ...C=40.19450333615126, kernel=rbf;, score=0.953 total time=   0.0s\n",
            "[CV 4/5] END ...C=40.19450333615126, kernel=rbf;, score=0.958 total time=   0.0s\n",
            "[CV 5/5] END ...C=40.19450333615126, kernel=rbf;, score=0.963 total time=   0.0s\n",
            "[CV 1/5] END ...C=56.23413251903491, kernel=rbf;, score=0.963 total time=   0.0s\n",
            "[CV 2/5] END ...C=56.23413251903491, kernel=rbf;, score=0.949 total time=   0.0s\n",
            "[CV 3/5] END ...C=56.23413251903491, kernel=rbf;, score=0.953 total time=   0.0s\n",
            "[CV 4/5] END ...C=56.23413251903491, kernel=rbf;, score=0.958 total time=   0.0s\n",
            "[CV 5/5] END ...C=56.23413251903491, kernel=rbf;, score=0.959 total time=   0.0s\n",
            "[CV 1/5] END ...C=78.67438076599402, kernel=rbf;, score=0.958 total time=   0.0s\n",
            "[CV 2/5] END ...C=78.67438076599402, kernel=rbf;, score=0.954 total time=   0.0s\n",
            "[CV 3/5] END ...C=78.67438076599402, kernel=rbf;, score=0.948 total time=   0.0s\n",
            "[CV 4/5] END ...C=78.67438076599402, kernel=rbf;, score=0.953 total time=   0.0s\n",
            "[CV 5/5] END ...C=78.67438076599402, kernel=rbf;, score=0.954 total time=   0.0s\n",
            "[CV 1/5] END ..C=110.06941712522104, kernel=rbf;, score=0.958 total time=   0.0s\n",
            "[CV 2/5] END ..C=110.06941712522104, kernel=rbf;, score=0.954 total time=   0.0s\n",
            "[CV 3/5] END ..C=110.06941712522104, kernel=rbf;, score=0.948 total time=   0.0s\n",
            "[CV 4/5] END ..C=110.06941712522104, kernel=rbf;, score=0.953 total time=   0.0s\n",
            "[CV 5/5] END ..C=110.06941712522104, kernel=rbf;, score=0.954 total time=   0.0s\n",
            "[CV 1/5] END ...C=153.9926526059492, kernel=rbf;, score=0.967 total time=   0.0s\n",
            "[CV 2/5] END ...C=153.9926526059492, kernel=rbf;, score=0.954 total time=   0.0s\n",
            "[CV 3/5] END ...C=153.9926526059492, kernel=rbf;, score=0.948 total time=   0.0s\n",
            "[CV 4/5] END ...C=153.9926526059492, kernel=rbf;, score=0.958 total time=   0.0s\n",
            "[CV 5/5] END ...C=153.9926526059492, kernel=rbf;, score=0.958 total time=   0.0s\n",
            "[CV 1/5] END ..C=215.44346900318845, kernel=rbf;, score=0.963 total time=   0.0s\n",
            "[CV 2/5] END ..C=215.44346900318845, kernel=rbf;, score=0.954 total time=   0.0s\n",
            "[CV 3/5] END ..C=215.44346900318845, kernel=rbf;, score=0.948 total time=   0.0s\n",
            "[CV 4/5] END ..C=215.44346900318845, kernel=rbf;, score=0.958 total time=   0.0s\n",
            "[CV 5/5] END ..C=215.44346900318845, kernel=rbf;, score=0.963 total time=   0.0s\n",
            "[CV 1/5] END ...C=301.4162529877392, kernel=rbf;, score=0.963 total time=   0.0s\n",
            "[CV 2/5] END ...C=301.4162529877392, kernel=rbf;, score=0.954 total time=   0.0s\n",
            "[CV 3/5] END ...C=301.4162529877392, kernel=rbf;, score=0.948 total time=   0.0s\n",
            "[CV 4/5] END ...C=301.4162529877392, kernel=rbf;, score=0.962 total time=   0.0s\n",
            "[CV 5/5] END ...C=301.4162529877392, kernel=rbf;, score=0.968 total time=   0.0s\n",
            "[CV 1/5] END ...C=421.6965034285823, kernel=rbf;, score=0.963 total time=   0.0s\n",
            "[CV 2/5] END ...C=421.6965034285823, kernel=rbf;, score=0.949 total time=   0.0s\n",
            "[CV 3/5] END ...C=421.6965034285823, kernel=rbf;, score=0.948 total time=   0.0s\n",
            "[CV 4/5] END ...C=421.6965034285823, kernel=rbf;, score=0.962 total time=   0.0s\n",
            "[CV 5/5] END ...C=421.6965034285823, kernel=rbf;, score=0.968 total time=   0.0s\n",
            "[CV 1/5] END ...C=589.9746255923566, kernel=rbf;, score=0.958 total time=   0.0s\n",
            "[CV 2/5] END ...C=589.9746255923566, kernel=rbf;, score=0.949 total time=   0.0s\n",
            "[CV 3/5] END ...C=589.9746255923566, kernel=rbf;, score=0.948 total time=   0.0s\n",
            "[CV 4/5] END ...C=589.9746255923566, kernel=rbf;, score=0.962 total time=   0.0s\n",
            "[CV 5/5] END ...C=589.9746255923566, kernel=rbf;, score=0.968 total time=   0.0s\n",
            "[CV 1/5] END ....C=825.404185268019, kernel=rbf;, score=0.963 total time=   0.0s\n",
            "[CV 2/5] END ....C=825.404185268019, kernel=rbf;, score=0.949 total time=   0.0s\n",
            "[CV 3/5] END ....C=825.404185268019, kernel=rbf;, score=0.948 total time=   0.0s\n",
            "[CV 4/5] END ....C=825.404185268019, kernel=rbf;, score=0.962 total time=   0.0s\n",
            "[CV 5/5] END ....C=825.404185268019, kernel=rbf;, score=0.968 total time=   0.0s\n",
            "[CV 1/5] END ...C=1154.781984689458, kernel=rbf;, score=0.963 total time=   0.0s\n",
            "[CV 2/5] END ...C=1154.781984689458, kernel=rbf;, score=0.949 total time=   0.0s\n",
            "[CV 3/5] END ...C=1154.781984689458, kernel=rbf;, score=0.948 total time=   0.0s\n",
            "[CV 4/5] END ...C=1154.781984689458, kernel=rbf;, score=0.962 total time=   0.0s\n",
            "[CV 5/5] END ...C=1154.781984689458, kernel=rbf;, score=0.968 total time=   0.0s\n",
            "[CV 1/5] END ..C=1615.5980984398745, kernel=rbf;, score=0.963 total time=   0.0s\n",
            "[CV 2/5] END ..C=1615.5980984398745, kernel=rbf;, score=0.949 total time=   0.0s\n",
            "[CV 3/5] END ..C=1615.5980984398745, kernel=rbf;, score=0.948 total time=   0.0s\n",
            "[CV 4/5] END ..C=1615.5980984398745, kernel=rbf;, score=0.962 total time=   0.0s\n",
            "[CV 5/5] END ..C=1615.5980984398745, kernel=rbf;, score=0.968 total time=   0.0s\n",
            "[CV 1/5] END ..C=2260.3030271419216, kernel=rbf;, score=0.963 total time=   0.0s\n",
            "[CV 2/5] END ..C=2260.3030271419216, kernel=rbf;, score=0.949 total time=   0.0s\n",
            "[CV 3/5] END ..C=2260.3030271419216, kernel=rbf;, score=0.948 total time=   0.0s\n",
            "[CV 4/5] END ..C=2260.3030271419216, kernel=rbf;, score=0.962 total time=   0.0s\n",
            "[CV 5/5] END ..C=2260.3030271419216, kernel=rbf;, score=0.968 total time=   0.0s\n",
            "[CV 1/5] END ..C=3162.2776601683795, kernel=rbf;, score=0.963 total time=   0.0s\n",
            "[CV 2/5] END ..C=3162.2776601683795, kernel=rbf;, score=0.949 total time=   0.0s\n",
            "[CV 3/5] END ..C=3162.2776601683795, kernel=rbf;, score=0.948 total time=   0.0s\n",
            "[CV 4/5] END ..C=3162.2776601683795, kernel=rbf;, score=0.962 total time=   0.0s\n",
            "[CV 5/5] END ..C=3162.2776601683795, kernel=rbf;, score=0.968 total time=   0.0s\n"
          ]
        },
        {
          "output_type": "execute_result",
          "data": {
            "text/plain": [
              "GridSearchCV(cv=5,\n",
              "             estimator=SVC(class_weight={'C': 3, 'Other': 8, 'S': 2, 'X': 5}),\n",
              "             param_grid=[{'C': array([1.00000000e+00, 1.39905031e+00, 1.95734178e+00, 2.73841963e+00,\n",
              "       3.83118685e+00, 5.36002317e+00, 7.49894209e+00, 1.04913973e+01,\n",
              "       1.46779927e+01, 2.05352503e+01, 2.87298483e+01, 4.01945033e+01,\n",
              "       5.62341325e+01, 7.86743808e+01, 1.10069417e+02, 1.53992653e+02,\n",
              "       2.15443469...\n",
              "       3.83118685e+00, 5.36002317e+00, 7.49894209e+00, 1.04913973e+01,\n",
              "       1.46779927e+01, 2.05352503e+01, 2.87298483e+01, 4.01945033e+01,\n",
              "       5.62341325e+01, 7.86743808e+01, 1.10069417e+02, 1.53992653e+02,\n",
              "       2.15443469e+02, 3.01416253e+02, 4.21696503e+02, 5.89974626e+02,\n",
              "       8.25404185e+02, 1.15478198e+03, 1.61559810e+03, 2.26030303e+03,\n",
              "       3.16227766e+03]),\n",
              "                          'kernel': ['rbf']}],\n",
              "             scoring=make_scorer(f1_score, average=weighted), verbose=3)"
            ],
            "text/html": [
              "<style>#sk-container-id-2 {color: black;background-color: white;}#sk-container-id-2 pre{padding: 0;}#sk-container-id-2 div.sk-toggleable {background-color: white;}#sk-container-id-2 label.sk-toggleable__label {cursor: pointer;display: block;width: 100%;margin-bottom: 0;padding: 0.3em;box-sizing: border-box;text-align: center;}#sk-container-id-2 label.sk-toggleable__label-arrow:before {content: \"▸\";float: left;margin-right: 0.25em;color: #696969;}#sk-container-id-2 label.sk-toggleable__label-arrow:hover:before {color: black;}#sk-container-id-2 div.sk-estimator:hover label.sk-toggleable__label-arrow:before {color: black;}#sk-container-id-2 div.sk-toggleable__content {max-height: 0;max-width: 0;overflow: hidden;text-align: left;background-color: #f0f8ff;}#sk-container-id-2 div.sk-toggleable__content pre {margin: 0.2em;color: black;border-radius: 0.25em;background-color: #f0f8ff;}#sk-container-id-2 input.sk-toggleable__control:checked~div.sk-toggleable__content {max-height: 200px;max-width: 100%;overflow: auto;}#sk-container-id-2 input.sk-toggleable__control:checked~label.sk-toggleable__label-arrow:before {content: \"▾\";}#sk-container-id-2 div.sk-estimator input.sk-toggleable__control:checked~label.sk-toggleable__label {background-color: #d4ebff;}#sk-container-id-2 div.sk-label input.sk-toggleable__control:checked~label.sk-toggleable__label {background-color: #d4ebff;}#sk-container-id-2 input.sk-hidden--visually {border: 0;clip: rect(1px 1px 1px 1px);clip: rect(1px, 1px, 1px, 1px);height: 1px;margin: -1px;overflow: hidden;padding: 0;position: absolute;width: 1px;}#sk-container-id-2 div.sk-estimator {font-family: monospace;background-color: #f0f8ff;border: 1px dotted black;border-radius: 0.25em;box-sizing: border-box;margin-bottom: 0.5em;}#sk-container-id-2 div.sk-estimator:hover {background-color: #d4ebff;}#sk-container-id-2 div.sk-parallel-item::after {content: \"\";width: 100%;border-bottom: 1px solid gray;flex-grow: 1;}#sk-container-id-2 div.sk-label:hover label.sk-toggleable__label {background-color: #d4ebff;}#sk-container-id-2 div.sk-serial::before {content: \"\";position: absolute;border-left: 1px solid gray;box-sizing: border-box;top: 0;bottom: 0;left: 50%;z-index: 0;}#sk-container-id-2 div.sk-serial {display: flex;flex-direction: column;align-items: center;background-color: white;padding-right: 0.2em;padding-left: 0.2em;position: relative;}#sk-container-id-2 div.sk-item {position: relative;z-index: 1;}#sk-container-id-2 div.sk-parallel {display: flex;align-items: stretch;justify-content: center;background-color: white;position: relative;}#sk-container-id-2 div.sk-item::before, #sk-container-id-2 div.sk-parallel-item::before {content: \"\";position: absolute;border-left: 1px solid gray;box-sizing: border-box;top: 0;bottom: 0;left: 50%;z-index: -1;}#sk-container-id-2 div.sk-parallel-item {display: flex;flex-direction: column;z-index: 1;position: relative;background-color: white;}#sk-container-id-2 div.sk-parallel-item:first-child::after {align-self: flex-end;width: 50%;}#sk-container-id-2 div.sk-parallel-item:last-child::after {align-self: flex-start;width: 50%;}#sk-container-id-2 div.sk-parallel-item:only-child::after {width: 0;}#sk-container-id-2 div.sk-dashed-wrapped {border: 1px dashed gray;margin: 0 0.4em 0.5em 0.4em;box-sizing: border-box;padding-bottom: 0.4em;background-color: white;}#sk-container-id-2 div.sk-label label {font-family: monospace;font-weight: bold;display: inline-block;line-height: 1.2em;}#sk-container-id-2 div.sk-label-container {text-align: center;}#sk-container-id-2 div.sk-container {/* jupyter's `normalize.less` sets `[hidden] { display: none; }` but bootstrap.min.css set `[hidden] { display: none !important; }` so we also need the `!important` here to be able to override the default hidden behavior on the sphinx rendered scikit-learn.org. See: https://github.com/scikit-learn/scikit-learn/issues/21755 */display: inline-block !important;position: relative;}#sk-container-id-2 div.sk-text-repr-fallback {display: none;}</style><div id=\"sk-container-id-2\" class=\"sk-top-container\"><div class=\"sk-text-repr-fallback\"><pre>GridSearchCV(cv=5,\n",
              "             estimator=SVC(class_weight={&#x27;C&#x27;: 3, &#x27;Other&#x27;: 8, &#x27;S&#x27;: 2, &#x27;X&#x27;: 5}),\n",
              "             param_grid=[{&#x27;C&#x27;: array([1.00000000e+00, 1.39905031e+00, 1.95734178e+00, 2.73841963e+00,\n",
              "       3.83118685e+00, 5.36002317e+00, 7.49894209e+00, 1.04913973e+01,\n",
              "       1.46779927e+01, 2.05352503e+01, 2.87298483e+01, 4.01945033e+01,\n",
              "       5.62341325e+01, 7.86743808e+01, 1.10069417e+02, 1.53992653e+02,\n",
              "       2.15443469...\n",
              "       3.83118685e+00, 5.36002317e+00, 7.49894209e+00, 1.04913973e+01,\n",
              "       1.46779927e+01, 2.05352503e+01, 2.87298483e+01, 4.01945033e+01,\n",
              "       5.62341325e+01, 7.86743808e+01, 1.10069417e+02, 1.53992653e+02,\n",
              "       2.15443469e+02, 3.01416253e+02, 4.21696503e+02, 5.89974626e+02,\n",
              "       8.25404185e+02, 1.15478198e+03, 1.61559810e+03, 2.26030303e+03,\n",
              "       3.16227766e+03]),\n",
              "                          &#x27;kernel&#x27;: [&#x27;rbf&#x27;]}],\n",
              "             scoring=make_scorer(f1_score, average=weighted), verbose=3)</pre><b>In a Jupyter environment, please rerun this cell to show the HTML representation or trust the notebook. <br />On GitHub, the HTML representation is unable to render, please try loading this page with nbviewer.org.</b></div><div class=\"sk-container\" hidden><div class=\"sk-item sk-dashed-wrapped\"><div class=\"sk-label-container\"><div class=\"sk-label sk-toggleable\"><input class=\"sk-toggleable__control sk-hidden--visually\" id=\"sk-estimator-id-4\" type=\"checkbox\" ><label for=\"sk-estimator-id-4\" class=\"sk-toggleable__label sk-toggleable__label-arrow\">GridSearchCV</label><div class=\"sk-toggleable__content\"><pre>GridSearchCV(cv=5,\n",
              "             estimator=SVC(class_weight={&#x27;C&#x27;: 3, &#x27;Other&#x27;: 8, &#x27;S&#x27;: 2, &#x27;X&#x27;: 5}),\n",
              "             param_grid=[{&#x27;C&#x27;: array([1.00000000e+00, 1.39905031e+00, 1.95734178e+00, 2.73841963e+00,\n",
              "       3.83118685e+00, 5.36002317e+00, 7.49894209e+00, 1.04913973e+01,\n",
              "       1.46779927e+01, 2.05352503e+01, 2.87298483e+01, 4.01945033e+01,\n",
              "       5.62341325e+01, 7.86743808e+01, 1.10069417e+02, 1.53992653e+02,\n",
              "       2.15443469...\n",
              "       3.83118685e+00, 5.36002317e+00, 7.49894209e+00, 1.04913973e+01,\n",
              "       1.46779927e+01, 2.05352503e+01, 2.87298483e+01, 4.01945033e+01,\n",
              "       5.62341325e+01, 7.86743808e+01, 1.10069417e+02, 1.53992653e+02,\n",
              "       2.15443469e+02, 3.01416253e+02, 4.21696503e+02, 5.89974626e+02,\n",
              "       8.25404185e+02, 1.15478198e+03, 1.61559810e+03, 2.26030303e+03,\n",
              "       3.16227766e+03]),\n",
              "                          &#x27;kernel&#x27;: [&#x27;rbf&#x27;]}],\n",
              "             scoring=make_scorer(f1_score, average=weighted), verbose=3)</pre></div></div></div><div class=\"sk-parallel\"><div class=\"sk-parallel-item\"><div class=\"sk-item\"><div class=\"sk-label-container\"><div class=\"sk-label sk-toggleable\"><input class=\"sk-toggleable__control sk-hidden--visually\" id=\"sk-estimator-id-5\" type=\"checkbox\" ><label for=\"sk-estimator-id-5\" class=\"sk-toggleable__label sk-toggleable__label-arrow\">estimator: SVC</label><div class=\"sk-toggleable__content\"><pre>SVC(class_weight={&#x27;C&#x27;: 3, &#x27;Other&#x27;: 8, &#x27;S&#x27;: 2, &#x27;X&#x27;: 5})</pre></div></div></div><div class=\"sk-serial\"><div class=\"sk-item\"><div class=\"sk-estimator sk-toggleable\"><input class=\"sk-toggleable__control sk-hidden--visually\" id=\"sk-estimator-id-6\" type=\"checkbox\" ><label for=\"sk-estimator-id-6\" class=\"sk-toggleable__label sk-toggleable__label-arrow\">SVC</label><div class=\"sk-toggleable__content\"><pre>SVC(class_weight={&#x27;C&#x27;: 3, &#x27;Other&#x27;: 8, &#x27;S&#x27;: 2, &#x27;X&#x27;: 5})</pre></div></div></div></div></div></div></div></div></div></div>"
            ]
          },
          "metadata": {},
          "execution_count": 31
        }
      ]
    },
    {
      "cell_type": "code",
      "source": [
        "# Let's print some SVM results\n",
        "final_clf = wclf.best_estimator_\n",
        "\n",
        "print(f\"Kernel with the best result: {final_clf.kernel}\")\n",
        "print(f\"SVM information: {final_clf}\")"
      ],
      "metadata": {
        "id": "fqQd00rcrF92",
        "colab": {
          "base_uri": "https://localhost:8080/"
        },
        "outputId": "5e68ad45-45f2-43fc-967e-d82b4fbaaee0"
      },
      "execution_count": null,
      "outputs": [
        {
          "output_type": "stream",
          "name": "stdout",
          "text": [
            "Kernel with the best result: rbf\n",
            "SVM information: SVC(C=20.53525026457146, class_weight={'C': 3, 'Other': 8, 'S': 2, 'X': 5})\n"
          ]
        }
      ]
    },
    {
      "cell_type": "code",
      "source": [
        "# Scale the testing data ...\n",
        "X_test_scaled = scaler.transform(X_test)\n",
        "\n",
        "# ... and perform a predicition\n",
        "y_test_pred = final_clf.predict(X_test_scaled)"
      ],
      "metadata": {
        "id": "EQcW5NZ8UoCi"
      },
      "execution_count": null,
      "outputs": []
    },
    {
      "cell_type": "code",
      "source": [
        "# Import the confusion matrix and perform the computation\n",
        "from sklearn.metrics import confusion_matrix\n",
        "conf_mat = confusion_matrix(y_test, y_test_pred, labels=[\"C\", \"S\", \"X\", \"Other\"])\n",
        "\n",
        "print(conf_mat)"
      ],
      "metadata": {
        "id": "wxCyN-gVNG68",
        "colab": {
          "base_uri": "https://localhost:8080/"
        },
        "outputId": "ceb92790-cce0-4645-ba27-d21bf68b4117"
      },
      "execution_count": null,
      "outputs": [
        {
          "output_type": "stream",
          "name": "stdout",
          "text": [
            "[[ 78   0   1   0]\n",
            " [  0 106   0   4]\n",
            " [  1   0  46   1]\n",
            " [  0   0   2  29]]\n"
          ]
        }
      ]
    },
    {
      "cell_type": "code",
      "source": [
        "# A combined score\n",
        "f1_score = round(sklearn.metrics.f1_score(y_test, y_test_pred, average=\"weighted\"), 3)\n",
        "print(f\"F1 Score: {f1_score}\")"
      ],
      "metadata": {
        "id": "2fH0EeYRPGw1",
        "colab": {
          "base_uri": "https://localhost:8080/"
        },
        "outputId": "fdd8f23a-fe26-460d-cb88-ac932a128735"
      },
      "execution_count": null,
      "outputs": [
        {
          "output_type": "stream",
          "name": "stdout",
          "text": [
            "F1 Score: 0.967\n"
          ]
        }
      ]
    },
    {
      "cell_type": "code",
      "source": [],
      "metadata": {
        "id": "uj3xG4I2qnsy"
      },
      "execution_count": null,
      "outputs": []
    }
  ]
}